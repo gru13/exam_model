{
 "cells": [
  {
   "cell_type": "code",
   "execution_count": null,
   "metadata": {},
   "outputs": [],
   "source": [
    "from tkinter import *\n",
    "Win = Tk()\n",
    "but_l= []\n",
    "def but_p(a):\n",
    "    print(a)\n",
    "for a in range(5):\n",
    "   but_l.append(Button(Win ,text=str(a),command=lambda : but_p(a)))\n",
    "print(but_l)"
   ]
  }
 ],
 "metadata": {
  "kernelspec": {
   "display_name": "Python 3.10.0 ('bsvenv')",
   "language": "python",
   "name": "python3"
  },
  "language_info": {
   "name": "python",
   "version": "3.10.0"
  },
  "orig_nbformat": 4,
  "vscode": {
   "interpreter": {
    "hash": "c8428591c1cee47a8454889e10e9e3e13850dc5e95de1e94f23751dd62909378"
   }
  }
 },
 "nbformat": 4,
 "nbformat_minor": 2
}
